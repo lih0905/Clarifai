{
 "cells": [
  {
   "cell_type": "code",
   "execution_count": 1,
   "metadata": {},
   "outputs": [
    {
     "name": "stdout",
     "output_type": "stream",
     "text": [
      "Requirement already satisfied: clarifai in /home/inhwan/Python/Rec_sys/lib/python3.7/site-packages (2.6.2)\n",
      "Requirement already satisfied: googleapis-common-protos<2,>=1.5.0 in /home/inhwan/Python/Rec_sys/lib/python3.7/site-packages (from clarifai) (1.6.0)\n",
      "Requirement already satisfied: grpcio<2,>=1.13.0 in /home/inhwan/Python/Rec_sys/lib/python3.7/site-packages (from clarifai) (1.25.0)\n",
      "Requirement already satisfied: configparser<4,>=3.5 in /home/inhwan/Python/Rec_sys/lib/python3.7/site-packages (from clarifai) (3.8.1)\n",
      "Requirement already satisfied: requests<3,>=2.13 in /home/inhwan/Python/Rec_sys/lib/python3.7/site-packages (from clarifai) (2.22.0)\n",
      "Requirement already satisfied: jsonschema<3,>=2.5 in /home/inhwan/Python/Rec_sys/lib/python3.7/site-packages (from clarifai) (2.6.0)\n",
      "Requirement already satisfied: protobuf<4,>=3.6 in /home/inhwan/Python/Rec_sys/lib/python3.7/site-packages (from clarifai) (3.11.0)\n",
      "Requirement already satisfied: future<2,>=0.15 in /home/inhwan/Python/Rec_sys/lib/python3.7/site-packages (from clarifai) (0.18.2)\n",
      "Requirement already satisfied: six>=1.5.2 in /home/inhwan/Python/Rec_sys/lib/python3.7/site-packages (from grpcio<2,>=1.13.0->clarifai) (1.12.0)\n",
      "Requirement already satisfied: certifi>=2017.4.17 in /home/inhwan/Python/Rec_sys/lib/python3.7/site-packages (from requests<3,>=2.13->clarifai) (2019.9.11)\n",
      "Requirement already satisfied: chardet<3.1.0,>=3.0.2 in /home/inhwan/Python/Rec_sys/lib/python3.7/site-packages (from requests<3,>=2.13->clarifai) (3.0.4)\n",
      "Requirement already satisfied: urllib3!=1.25.0,!=1.25.1,<1.26,>=1.21.1 in /home/inhwan/Python/Rec_sys/lib/python3.7/site-packages (from requests<3,>=2.13->clarifai) (1.25.6)\n",
      "Requirement already satisfied: idna<2.9,>=2.5 in /home/inhwan/Python/Rec_sys/lib/python3.7/site-packages (from requests<3,>=2.13->clarifai) (2.8)\n",
      "Requirement already satisfied: setuptools in /home/inhwan/Python/Rec_sys/lib/python3.7/site-packages (from protobuf<4,>=3.6->clarifai) (41.6.0)\n"
     ]
    }
   ],
   "source": [
    "!pip install clarifai"
   ]
  },
  {
   "cell_type": "code",
   "execution_count": 2,
   "metadata": {},
   "outputs": [],
   "source": [
    "from clarifai.rest import ClarifaiApp"
   ]
  },
  {
   "cell_type": "code",
   "execution_count": 3,
   "metadata": {},
   "outputs": [],
   "source": [
    "app = ClarifaiApp(api_key='b90669e9a5494555ba6f17d6be3c5742')"
   ]
  },
  {
   "cell_type": "code",
   "execution_count": 4,
   "metadata": {},
   "outputs": [],
   "source": [
    "model = app.public_models.general_model"
   ]
  },
  {
   "cell_type": "code",
   "execution_count": 8,
   "metadata": {},
   "outputs": [
    {
     "name": "stdout",
     "output_type": "stream",
     "text": [
      "sunglasses          , 0.990\n",
      "one                 , 0.984\n",
      "outdoors            , 0.981\n",
      "travel              , 0.976\n",
      "city                , 0.967\n",
      "people              , 0.963\n",
      "portrait            , 0.963\n",
      "man                 , 0.960\n",
      "adult               , 0.960\n",
      "architecture        , 0.945\n",
      "urban               , 0.941\n",
      "wear                , 0.935\n",
      "recreation          , 0.934\n",
      "fashion             , 0.910\n",
      "facial expression   , 0.910\n",
      "lifestyle           , 0.905\n",
      "daylight            , 0.893\n",
      "summer              , 0.879\n",
      "seashore            , 0.878\n",
      "town                , 0.878\n"
     ]
    }
   ],
   "source": [
    "for item in response['outputs'][0]['data']['concepts']:\n",
    "    #print(\"The name is {}, and the percentage is {}.\".format(item['name'],item['value']))\n",
    "    print(\"{:20}, {:0.3f}\".format(item['name'],item['value']))"
   ]
  },
  {
   "cell_type": "code",
   "execution_count": 9,
   "metadata": {},
   "outputs": [],
   "source": [
    "def recog_test(pic_address):\n",
    "    response = model.predict_by_url(pic_address)\n",
    "    for item in response['outputs'][0]['data']['concepts']:\n",
    "        print(\"{:0.3f}, {:20}\".format(item['value'],item['name']))"
   ]
  },
  {
   "cell_type": "markdown",
   "metadata": {},
   "source": [
    "<img src = 'https://img1.daumcdn.net/thumb/R380x0/?fname=%2Fmedia%2Fvitraya%2Fauto%2Fimage%2Fb1faed%2F6AFF652AC377D899A5D6D15AA410640AFEEB91D9935191B335_6UAW'>"
   ]
  },
  {
   "cell_type": "code",
   "execution_count": 11,
   "metadata": {},
   "outputs": [
    {
     "name": "stdout",
     "output_type": "stream",
     "text": [
      "0.999, car                 \n",
      "0.995, vehicle             \n",
      "0.992, sedan               \n",
      "0.986, automotive          \n",
      "0.985, wheel               \n",
      "0.985, drive               \n",
      "0.979, transportation system\n",
      "0.978, classic             \n",
      "0.977, coupe               \n",
      "0.971, speed               \n",
      "0.971, chrome              \n",
      "0.971, hood                \n",
      "0.968, fast                \n",
      "0.957, bumper              \n",
      "0.956, luxury              \n",
      "0.950, headlight           \n",
      "0.917, convertible         \n",
      "0.910, tire                \n",
      "0.910, prestige            \n",
      "0.902, engine              \n"
     ]
    }
   ],
   "source": [
    "recog_test('https://img1.daumcdn.net/thumb/R380x0/?fname=%2Fmedia%2Fvitraya%2Fauto%2Fimage%2Fb1faed%2F6AFF652AC377D899A5D6D15AA410640AFEEB91D9935191B335_6UAW')"
   ]
  },
  {
   "cell_type": "markdown",
   "metadata": {},
   "source": [
    "<img src = 'https://travelblog.expedia.co.kr/wp-content/uploads/2019/03/20-20-%ED%85%9C%EC%8A%A4%EA%B0%95.jpg'>"
   ]
  },
  {
   "cell_type": "code",
   "execution_count": 12,
   "metadata": {},
   "outputs": [
    {
     "name": "stdout",
     "output_type": "stream",
     "text": [
      "0.995, architecture        \n",
      "0.994, city                \n",
      "0.993, travel              \n",
      "0.988, water               \n",
      "0.988, cityscape           \n",
      "0.988, bridge              \n",
      "0.986, river               \n",
      "0.982, building            \n",
      "0.981, tower               \n",
      "0.976, skyline             \n",
      "0.975, urban               \n",
      "0.972, sky                 \n",
      "0.962, landmark            \n",
      "0.959, outdoors            \n",
      "0.953, no person           \n",
      "0.950, tourism             \n",
      "0.948, sight               \n",
      "0.947, town                \n",
      "0.923, clock               \n",
      "0.896, sunset              \n"
     ]
    }
   ],
   "source": [
    "recog_test('https://travelblog.expedia.co.kr/wp-content/uploads/2019/03/20-20-%ED%85%9C%EC%8A%A4%EA%B0%95.jpg')"
   ]
  },
  {
   "cell_type": "markdown",
   "metadata": {},
   "source": [
    "<img src='http://image.itdonga.com/files/2018/10/29/a1.JPG'>"
   ]
  },
  {
   "cell_type": "code",
   "execution_count": 14,
   "metadata": {},
   "outputs": [
    {
     "name": "stdout",
     "output_type": "stream",
     "text": [
      "0.998, car                 \n",
      "0.986, vehicle             \n",
      "0.976, travel              \n",
      "0.971, traffic             \n",
      "0.969, transportation system\n",
      "0.968, no person           \n",
      "0.967, street              \n",
      "0.956, road                \n",
      "0.945, action              \n",
      "0.933, bus                 \n",
      "0.925, police              \n",
      "0.919, blur                \n",
      "0.908, business            \n",
      "0.902, outdoors            \n",
      "0.894, city                \n",
      "0.887, fast                \n",
      "0.881, people              \n",
      "0.873, landscape           \n",
      "0.859, airport             \n",
      "0.858, light               \n"
     ]
    }
   ],
   "source": [
    "recog_test('http://image.itdonga.com/files/2018/10/29/a1.JPG')"
   ]
  },
  {
   "cell_type": "markdown",
   "metadata": {},
   "source": [
    "<img src='http://korean.visitseoul.net/comm/getImage?srvcId=MEDIA&parentSn=17972&fileTy=MEDIA&fileNo=1&thumbTy=L'>"
   ]
  },
  {
   "cell_type": "code",
   "execution_count": 15,
   "metadata": {},
   "outputs": [
    {
     "name": "stdout",
     "output_type": "stream",
     "text": [
      "0.993, architecture        \n",
      "0.988, sky                 \n",
      "0.988, no person           \n",
      "0.980, tower               \n",
      "0.977, travel              \n",
      "0.967, outdoors            \n",
      "0.962, city                \n",
      "0.952, high                \n",
      "0.947, tallest             \n",
      "0.939, wireless            \n",
      "0.935, building            \n",
      "0.900, television          \n",
      "0.876, tree                \n",
      "0.871, antenna             \n",
      "0.870, summer              \n",
      "0.870, daylight            \n",
      "0.869, nature              \n",
      "0.854, landmark            \n",
      "0.839, sightseeing         \n",
      "0.834, steel               \n"
     ]
    }
   ],
   "source": [
    "recog_test('http://korean.visitseoul.net/comm/getImage?srvcId=MEDIA&parentSn=17972&fileTy=MEDIA&fileNo=1&thumbTy=L')"
   ]
  },
  {
   "cell_type": "markdown",
   "metadata": {},
   "source": [
    "<img src='https://imgnn.seoul.co.kr/img//upload/2017/06/27/SSI_20170627151849_V.jpg'>"
   ]
  },
  {
   "cell_type": "code",
   "execution_count": 16,
   "metadata": {},
   "outputs": [
    {
     "name": "stdout",
     "output_type": "stream",
     "text": [
      "0.992, sit                 \n",
      "0.989, fur                 \n",
      "0.988, cute                \n",
      "0.986, pet                 \n",
      "0.982, indoors             \n",
      "0.970, dog                 \n",
      "0.958, domestic            \n",
      "0.952, looking             \n",
      "0.948, mammal              \n",
      "0.927, family              \n",
      "0.919, funny               \n",
      "0.917, animal              \n",
      "0.916, curiosity           \n",
      "0.909, no person           \n",
      "0.906, young               \n",
      "0.890, one                 \n",
      "0.884, puppy               \n",
      "0.878, little              \n",
      "0.874, room                \n",
      "0.872, hair                \n"
     ]
    }
   ],
   "source": [
    "recog_test('https://imgnn.seoul.co.kr/img//upload/2017/06/27/SSI_20170627151849_V.jpg')"
   ]
  },
  {
   "cell_type": "markdown",
   "metadata": {},
   "source": [
    "<img src='https://ncache.ilbe.com/files/attach/new/20170109/377678/583706417/9276610216/c21647ee3d09aefa159c9fa486eebb70.jpg'>"
   ]
  },
  {
   "cell_type": "code",
   "execution_count": 17,
   "metadata": {},
   "outputs": [
    {
     "name": "stdout",
     "output_type": "stream",
     "text": [
      "0.998, mammal              \n",
      "0.988, wildlife            \n",
      "0.982, no person           \n",
      "0.972, elephant            \n",
      "0.970, animal              \n",
      "0.964, nature              \n",
      "0.952, herd                \n",
      "0.945, illustration        \n",
      "0.941, group               \n",
      "0.940, two                 \n",
      "0.928, rhinoceros          \n",
      "0.921, wild                \n",
      "0.914, cute                \n",
      "0.914, bull                \n",
      "0.910, grass               \n",
      "0.907, large               \n",
      "0.905, safari              \n",
      "0.904, zoo                 \n",
      "0.899, savanna             \n",
      "0.860, hippopotamus        \n"
     ]
    }
   ],
   "source": [
    "recog_test('https://ncache.ilbe.com/files/attach/new/20170109/377678/583706417/9276610216/c21647ee3d09aefa159c9fa486eebb70.jpg')"
   ]
  },
  {
   "cell_type": "markdown",
   "metadata": {},
   "source": [
    "<img src='https://www.gotokyo.org/shared/images/pages/destinations/central-tokyo/akihabara/images/x55_0136_4.jpg.pagespeed.ic.hP-jPxp9qa.webp'>"
   ]
  },
  {
   "cell_type": "code",
   "execution_count": 18,
   "metadata": {},
   "outputs": [
    {
     "name": "stdout",
     "output_type": "stream",
     "text": [
      "0.997, shopping            \n",
      "0.996, market              \n",
      "0.996, commerce            \n",
      "0.994, stock               \n",
      "0.993, city                \n",
      "0.992, street              \n",
      "0.984, crowd               \n",
      "0.978, tourist             \n",
      "0.971, people              \n",
      "0.955, shop                \n",
      "0.933, many                \n",
      "0.932, tourism             \n",
      "0.929, road                \n",
      "0.923, group               \n",
      "0.894, daylight            \n",
      "0.890, booth               \n",
      "0.864, business            \n",
      "0.857, rush                \n",
      "0.837, pavement            \n",
      "0.835, billboard           \n"
     ]
    }
   ],
   "source": [
    "recog_test('https://www.gotokyo.org/shared/images/pages/destinations/central-tokyo/akihabara/images/x55_0136_4.jpg.pagespeed.ic.hP-jPxp9qa.webp')"
   ]
  },
  {
   "cell_type": "markdown",
   "metadata": {},
   "source": [
    "<img src='https://pub.chosun.com/up_fd/wc_news/2017-12/bimg_thumb/2017112402060_0.jpg'>"
   ]
  },
  {
   "cell_type": "code",
   "execution_count": 19,
   "metadata": {},
   "outputs": [
    {
     "name": "stdout",
     "output_type": "stream",
     "text": [
      "0.996, fruit               \n",
      "0.994, banana              \n",
      "0.988, food                \n",
      "0.978, juicy               \n",
      "0.976, healthy             \n",
      "0.974, pear                \n",
      "0.973, health              \n",
      "0.973, confection          \n",
      "0.969, nutrition           \n",
      "0.969, apple               \n",
      "0.966, no person           \n",
      "0.936, kind                \n",
      "0.933, diet                \n",
      "0.917, grape               \n",
      "0.915, leaf                \n",
      "0.913, vitamin             \n",
      "0.910, market              \n",
      "0.903, delicious           \n",
      "0.899, tropical            \n",
      "0.897, disjunct            \n"
     ]
    }
   ],
   "source": [
    "recog_test('https://pub.chosun.com/up_fd/wc_news/2017-12/bimg_thumb/2017112402060_0.jpg')"
   ]
  },
  {
   "cell_type": "code",
   "execution_count": null,
   "metadata": {},
   "outputs": [],
   "source": []
  }
 ],
 "metadata": {
  "kernelspec": {
   "display_name": "Python 3",
   "language": "python",
   "name": "python3"
  },
  "language_info": {
   "codemirror_mode": {
    "name": "ipython",
    "version": 3
   },
   "file_extension": ".py",
   "mimetype": "text/x-python",
   "name": "python",
   "nbconvert_exporter": "python",
   "pygments_lexer": "ipython3",
   "version": "3.7.3"
  }
 },
 "nbformat": 4,
 "nbformat_minor": 2
}
